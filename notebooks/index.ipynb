{
 "cells": [
  {
   "cell_type": "markdown",
   "metadata": {},
   "source": [
    "# Overview \n",
    "\n",
    "creating virtual environment to be able to use the models"
   ]
  },
  {
   "cell_type": "code",
   "execution_count": 1,
   "metadata": {},
   "outputs": [],
   "source": [
    "import os\n",
    "\n",
    "with open('requirements.txt', 'w') as f:\n",
    "    f.write('jupyter\\n')\n",
    "    f.write('llama\\n')\n",
    "    f.write('PyPDF2\\n')\n",
    "    f.write('chardet\\n')\n",
    "# Create a .env file with the requirements\n",
    "with open('.env', 'w') as f:\n",
    "    f.write('requirements:\\n')\n",
    "    f.write('- jupyter\\n')\n",
    "    f.write('- llama\\n')\n",
    "    f.write('- PyPDF2\\n')\n",
    "    f.write('- chardet\\n')\n",
    "\n",
    "# Ensure utf-8 encoding\n",
    "os.environ['PYTHONIOENCODING'] = 'utf-8'"
   ]
  }
 ],
 "metadata": {
  "kernelspec": {
   "display_name": "Python 3",
   "language": "python",
   "name": "python3"
  },
  "language_info": {
   "codemirror_mode": {
    "name": "ipython",
    "version": 3
   },
   "file_extension": ".py",
   "mimetype": "text/x-python",
   "name": "python",
   "nbconvert_exporter": "python",
   "pygments_lexer": "ipython3",
   "version": "3.13.0"
  }
 },
 "nbformat": 4,
 "nbformat_minor": 2
}
